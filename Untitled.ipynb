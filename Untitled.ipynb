{
 "cells": [
  {
   "cell_type": "code",
   "execution_count": 1,
   "id": "5539d834",
   "metadata": {},
   "outputs": [],
   "source": [
    "import requests"
   ]
  },
  {
   "cell_type": "code",
   "execution_count": 4,
   "id": "ecd9ab21",
   "metadata": {},
   "outputs": [],
   "source": [
    "KRAKEN_DATA_LABELS = {\n",
    "  \"a\": \"Ask\",\n",
    "  \"b\": \"Bid\",\n",
    "  \"c\": \"Last Trade Closed\",\n",
    "  \"v\": \"Volume\",\n",
    "  \"l\": \"Low\",\n",
    "  \"h\": \"High\",\n",
    "  \"o\": \"Today Opening Price\"\n",
    "}"
   ]
  },
  {
   "cell_type": "code",
   "execution_count": 11,
   "id": "273ad354",
   "metadata": {},
   "outputs": [],
   "source": [
    "res = requests.get(\"https://api.kraken.com/0/public/Ticker?pair=XXBTZEUR\").json()['result']['XXBTZEUR']"
   ]
  },
  {
   "cell_type": "code",
   "execution_count": 12,
   "id": "7b5fd87a",
   "metadata": {},
   "outputs": [
    {
     "data": {
      "text/plain": [
       "<Response [200]>"
      ]
     },
     "execution_count": 12,
     "metadata": {},
     "output_type": "execute_result"
    }
   ],
   "source": [
    "res"
   ]
  },
  {
   "cell_type": "code",
   "execution_count": 14,
   "id": "c7220817",
   "metadata": {},
   "outputs": [],
   "source": [
    "price = res.json()['result']['XXBTZEUR']"
   ]
  },
  {
   "cell_type": "code",
   "execution_count": 15,
   "id": "e1932e3e",
   "metadata": {},
   "outputs": [
    {
     "data": {
      "text/plain": [
       "'50561.50000'"
      ]
     },
     "execution_count": 15,
     "metadata": {},
     "output_type": "execute_result"
    }
   ],
   "source": [
    "price[\"o\"]"
   ]
  },
  {
   "cell_type": "code",
   "execution_count": 16,
   "id": "9d5d5c97",
   "metadata": {},
   "outputs": [
    {
     "ename": "ModuleNotFoundError",
     "evalue": "No module named 'kraken'",
     "output_type": "error",
     "traceback": [
      "\u001b[0;31m---------------------------------------------------------------------------\u001b[0m",
      "\u001b[0;31mModuleNotFoundError\u001b[0m                       Traceback (most recent call last)",
      "\u001b[0;32m<ipython-input-16-95c37aa701a9>\u001b[0m in \u001b[0;36m<module>\u001b[0;34m\u001b[0m\n\u001b[0;32m----> 1\u001b[0;31m \u001b[0;32mfrom\u001b[0m \u001b[0mkraken\u001b[0m\u001b[0;34m.\u001b[0m\u001b[0mapi\u001b[0m \u001b[0;32mimport\u001b[0m \u001b[0mget_btc_price\u001b[0m\u001b[0;34m\u001b[0m\u001b[0;34m\u001b[0m\u001b[0m\n\u001b[0m",
      "\u001b[0;31mModuleNotFoundError\u001b[0m: No module named 'kraken'"
     ]
    }
   ],
   "source": [
    "from kraken.api import get_btc_price"
   ]
  },
  {
   "cell_type": "code",
   "execution_count": 17,
   "id": "6c31c22b",
   "metadata": {},
   "outputs": [
    {
     "ename": "ModuleNotFoundError",
     "evalue": "No module named 'mail_client'",
     "output_type": "error",
     "traceback": [
      "\u001b[0;31m---------------------------------------------------------------------------\u001b[0m",
      "\u001b[0;31mModuleNotFoundError\u001b[0m                       Traceback (most recent call last)",
      "\u001b[0;32m<ipython-input-17-0c7320ef5412>\u001b[0m in \u001b[0;36m<module>\u001b[0;34m\u001b[0m\n\u001b[0;32m----> 1\u001b[0;31m \u001b[0;32mfrom\u001b[0m \u001b[0mmail_client\u001b[0m\u001b[0;34m.\u001b[0m\u001b[0mmail_client\u001b[0m \u001b[0;32mimport\u001b[0m \u001b[0mClient\u001b[0m\u001b[0;34m\u001b[0m\u001b[0;34m\u001b[0m\u001b[0m\n\u001b[0m",
      "\u001b[0;31mModuleNotFoundError\u001b[0m: No module named 'mail_client'"
     ]
    }
   ],
   "source": [
    "from mail_client.mail_client import Client\n"
   ]
  },
  {
   "cell_type": "code",
   "execution_count": null,
   "id": "95ae61a6",
   "metadata": {},
   "outputs": [],
   "source": []
  }
 ],
 "metadata": {
  "kernelspec": {
   "display_name": "Python 3",
   "language": "python",
   "name": "python3"
  },
  "language_info": {
   "codemirror_mode": {
    "name": "ipython",
    "version": 3
   },
   "file_extension": ".py",
   "mimetype": "text/x-python",
   "name": "python",
   "nbconvert_exporter": "python",
   "pygments_lexer": "ipython3",
   "version": "3.8.5"
  }
 },
 "nbformat": 4,
 "nbformat_minor": 5
}
